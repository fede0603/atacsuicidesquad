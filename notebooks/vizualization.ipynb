{
 "cells": [
  {
   "cell_type": "code",
   "execution_count": 4,
   "id": "faf5906d-aa47-4609-bc7d-9dce6c318216",
   "metadata": {},
   "outputs": [],
   "source": [
    "import pandas as pd\n",
    "import time\n",
    "import numpy as np"
   ]
  },
  {
   "cell_type": "markdown",
   "id": "becb0e97-21cd-4355-8ba2-3062feced2b7",
   "metadata": {},
   "source": [
    "# Static Data"
   ]
  },
  {
   "cell_type": "code",
   "execution_count": 5,
   "id": "fd333c9c-348b-4ced-875d-add61d3c39b0",
   "metadata": {},
   "outputs": [],
   "source": [
    "agency = pd.read_csv(r\"../rome_static_gtfs/agency.txt\", sep = \",\")"
   ]
  },
  {
   "cell_type": "code",
   "execution_count": 6,
   "id": "8dde3152-1bd2-4df6-9202-183fb6b5456c",
   "metadata": {},
   "outputs": [
    {
     "data": {
      "text/html": [
       "<div>\n",
       "<style scoped>\n",
       "    .dataframe tbody tr th:only-of-type {\n",
       "        vertical-align: middle;\n",
       "    }\n",
       "\n",
       "    .dataframe tbody tr th {\n",
       "        vertical-align: top;\n",
       "    }\n",
       "\n",
       "    .dataframe thead th {\n",
       "        text-align: right;\n",
       "    }\n",
       "</style>\n",
       "<table border=\"1\" class=\"dataframe\">\n",
       "  <thead>\n",
       "    <tr style=\"text-align: right;\">\n",
       "      <th></th>\n",
       "      <th>route_id</th>\n",
       "      <th>agency_id</th>\n",
       "      <th>route_short_name</th>\n",
       "      <th>route_long_name</th>\n",
       "      <th>route_type</th>\n",
       "      <th>route_url</th>\n",
       "      <th>route_color</th>\n",
       "      <th>route_text_color</th>\n",
       "    </tr>\n",
       "  </thead>\n",
       "  <tbody>\n",
       "    <tr>\n",
       "      <th>0</th>\n",
       "      <td>211</td>\n",
       "      <td>OP1</td>\n",
       "      <td>211</td>\n",
       "      <td>NaN</td>\n",
       "      <td>3</td>\n",
       "      <td>NaN</td>\n",
       "      <td>NaN</td>\n",
       "      <td>NaN</td>\n",
       "    </tr>\n",
       "    <tr>\n",
       "      <th>1</th>\n",
       "      <td>C2</td>\n",
       "      <td>OP1</td>\n",
       "      <td>C2</td>\n",
       "      <td>NaN</td>\n",
       "      <td>3</td>\n",
       "      <td>NaN</td>\n",
       "      <td>NaN</td>\n",
       "      <td>NaN</td>\n",
       "    </tr>\n",
       "    <tr>\n",
       "      <th>2</th>\n",
       "      <td>62</td>\n",
       "      <td>OP1</td>\n",
       "      <td>62</td>\n",
       "      <td>NaN</td>\n",
       "      <td>3</td>\n",
       "      <td>NaN</td>\n",
       "      <td>NaN</td>\n",
       "      <td>NaN</td>\n",
       "    </tr>\n",
       "    <tr>\n",
       "      <th>3</th>\n",
       "      <td>105</td>\n",
       "      <td>OP1</td>\n",
       "      <td>105</td>\n",
       "      <td>NaN</td>\n",
       "      <td>3</td>\n",
       "      <td>NaN</td>\n",
       "      <td>NaN</td>\n",
       "      <td>NaN</td>\n",
       "    </tr>\n",
       "    <tr>\n",
       "      <th>4</th>\n",
       "      <td>766</td>\n",
       "      <td>OP1</td>\n",
       "      <td>766</td>\n",
       "      <td>NaN</td>\n",
       "      <td>3</td>\n",
       "      <td>NaN</td>\n",
       "      <td>NaN</td>\n",
       "      <td>NaN</td>\n",
       "    </tr>\n",
       "    <tr>\n",
       "      <th>...</th>\n",
       "      <td>...</td>\n",
       "      <td>...</td>\n",
       "      <td>...</td>\n",
       "      <td>...</td>\n",
       "      <td>...</td>\n",
       "      <td>...</td>\n",
       "      <td>...</td>\n",
       "      <td>...</td>\n",
       "    </tr>\n",
       "    <tr>\n",
       "      <th>426</th>\n",
       "      <td>4357</td>\n",
       "      <td>OP2</td>\n",
       "      <td>787</td>\n",
       "      <td>NaN</td>\n",
       "      <td>3</td>\n",
       "      <td>http://muovi.roma.it/percorso/js?query=787&amp;cl=1</td>\n",
       "      <td>NaN</td>\n",
       "      <td>NaN</td>\n",
       "    </tr>\n",
       "    <tr>\n",
       "      <th>427</th>\n",
       "      <td>312</td>\n",
       "      <td>OP2</td>\n",
       "      <td>665</td>\n",
       "      <td>NaN</td>\n",
       "      <td>3</td>\n",
       "      <td>http://muovi.roma.it/percorso/js?query=665&amp;cl=1</td>\n",
       "      <td>NaN</td>\n",
       "      <td>NaN</td>\n",
       "    </tr>\n",
       "    <tr>\n",
       "      <th>428</th>\n",
       "      <td>345</td>\n",
       "      <td>OP2</td>\n",
       "      <td>437</td>\n",
       "      <td>NaN</td>\n",
       "      <td>3</td>\n",
       "      <td>http://muovi.roma.it/percorso/js?query=437&amp;cl=1</td>\n",
       "      <td>NaN</td>\n",
       "      <td>NaN</td>\n",
       "    </tr>\n",
       "    <tr>\n",
       "      <th>429</th>\n",
       "      <td>3632</td>\n",
       "      <td>OP2</td>\n",
       "      <td>235</td>\n",
       "      <td>NaN</td>\n",
       "      <td>3</td>\n",
       "      <td>http://muovi.roma.it/percorso/js?query=235&amp;cl=1</td>\n",
       "      <td>NaN</td>\n",
       "      <td>NaN</td>\n",
       "    </tr>\n",
       "    <tr>\n",
       "      <th>430</th>\n",
       "      <td>2047</td>\n",
       "      <td>OP2</td>\n",
       "      <td>039</td>\n",
       "      <td>NaN</td>\n",
       "      <td>3</td>\n",
       "      <td>http://muovi.roma.it/percorso/js?query=039&amp;cl=1</td>\n",
       "      <td>NaN</td>\n",
       "      <td>NaN</td>\n",
       "    </tr>\n",
       "  </tbody>\n",
       "</table>\n",
       "<p>431 rows × 8 columns</p>\n",
       "</div>"
      ],
      "text/plain": [
       "    route_id agency_id route_short_name route_long_name  route_type  \\\n",
       "0        211       OP1              211             NaN           3   \n",
       "1         C2       OP1               C2             NaN           3   \n",
       "2         62       OP1               62             NaN           3   \n",
       "3        105       OP1              105             NaN           3   \n",
       "4        766       OP1              766             NaN           3   \n",
       "..       ...       ...              ...             ...         ...   \n",
       "426     4357       OP2              787             NaN           3   \n",
       "427      312       OP2              665             NaN           3   \n",
       "428      345       OP2              437             NaN           3   \n",
       "429     3632       OP2              235             NaN           3   \n",
       "430     2047       OP2              039             NaN           3   \n",
       "\n",
       "                                           route_url  route_color  \\\n",
       "0                                                NaN          NaN   \n",
       "1                                                NaN          NaN   \n",
       "2                                                NaN          NaN   \n",
       "3                                                NaN          NaN   \n",
       "4                                                NaN          NaN   \n",
       "..                                               ...          ...   \n",
       "426  http://muovi.roma.it/percorso/js?query=787&cl=1          NaN   \n",
       "427  http://muovi.roma.it/percorso/js?query=665&cl=1          NaN   \n",
       "428  http://muovi.roma.it/percorso/js?query=437&cl=1          NaN   \n",
       "429  http://muovi.roma.it/percorso/js?query=235&cl=1          NaN   \n",
       "430  http://muovi.roma.it/percorso/js?query=039&cl=1          NaN   \n",
       "\n",
       "     route_text_color  \n",
       "0                 NaN  \n",
       "1                 NaN  \n",
       "2                 NaN  \n",
       "3                 NaN  \n",
       "4                 NaN  \n",
       "..                ...  \n",
       "426               NaN  \n",
       "427               NaN  \n",
       "428               NaN  \n",
       "429               NaN  \n",
       "430               NaN  \n",
       "\n",
       "[431 rows x 8 columns]"
      ]
     },
     "execution_count": 6,
     "metadata": {},
     "output_type": "execute_result"
    }
   ],
   "source": [
    "routes = pd.read_csv(r\"../rome_static_gtfs/routes.txt\", sep = \",\")\n",
    "atac_routes = routes.loc[routes[\"agency_id\"] == \"OP1\"][[\"route_id\",\"route_short_name\",\"route_long_name\",\"route_type\"]]\n",
    "atac_routes = atac_routes[\"route_id\"].drop_duplicates()\n",
    "atac_routes.shape\n",
    "routes"
   ]
  },
  {
   "cell_type": "code",
   "execution_count": 5,
   "id": "2ecce47c-7c92-4f58-aa3f-3f80fb50dada",
   "metadata": {},
   "outputs": [
    {
     "data": {
      "text/plain": [
       "(431, 328)"
      ]
     },
     "execution_count": 5,
     "metadata": {},
     "output_type": "execute_result"
    }
   ],
   "source": [
    "len(routes), len(atac_routes)"
   ]
  },
  {
   "cell_type": "code",
   "execution_count": 6,
   "id": "bcfb813a-0e32-4255-8c3e-fdabad93844a",
   "metadata": {},
   "outputs": [
    {
     "data": {
      "text/html": [
       "<div>\n",
       "<style scoped>\n",
       "    .dataframe tbody tr th:only-of-type {\n",
       "        vertical-align: middle;\n",
       "    }\n",
       "\n",
       "    .dataframe tbody tr th {\n",
       "        vertical-align: top;\n",
       "    }\n",
       "\n",
       "    .dataframe thead th {\n",
       "        text-align: right;\n",
       "    }\n",
       "</style>\n",
       "<table border=\"1\" class=\"dataframe\">\n",
       "  <thead>\n",
       "    <tr style=\"text-align: right;\">\n",
       "      <th></th>\n",
       "      <th>route_id</th>\n",
       "      <th>service_id</th>\n",
       "      <th>trip_id</th>\n",
       "      <th>trip_headsign</th>\n",
       "      <th>block_id</th>\n",
       "    </tr>\n",
       "  </thead>\n",
       "  <tbody>\n",
       "    <tr>\n",
       "      <th>0</th>\n",
       "      <td>T01</td>\n",
       "      <td>1#28</td>\n",
       "      <td>1#1-2</td>\n",
       "      <td>TUSCOLANA/ANAGNINA</td>\n",
       "      <td>NaN</td>\n",
       "    </tr>\n",
       "    <tr>\n",
       "      <th>1</th>\n",
       "      <td>T01</td>\n",
       "      <td>1#51</td>\n",
       "      <td>1#2-2</td>\n",
       "      <td>TUSCOLANA/ANAGNINA</td>\n",
       "      <td>NaN</td>\n",
       "    </tr>\n",
       "    <tr>\n",
       "      <th>2</th>\n",
       "      <td>T01</td>\n",
       "      <td>1#29</td>\n",
       "      <td>1#3-2</td>\n",
       "      <td>TUSCOLANA/ANAGNINA</td>\n",
       "      <td>NaN</td>\n",
       "    </tr>\n",
       "    <tr>\n",
       "      <th>3</th>\n",
       "      <td>T01</td>\n",
       "      <td>1#29</td>\n",
       "      <td>1#4-2</td>\n",
       "      <td>TUSCOLANA/ANAGNINA</td>\n",
       "      <td>NaN</td>\n",
       "    </tr>\n",
       "    <tr>\n",
       "      <th>4</th>\n",
       "      <td>T01</td>\n",
       "      <td>1#28</td>\n",
       "      <td>1#5-2</td>\n",
       "      <td>TUSCOLANA/ANAGNINA</td>\n",
       "      <td>NaN</td>\n",
       "    </tr>\n",
       "    <tr>\n",
       "      <th>...</th>\n",
       "      <td>...</td>\n",
       "      <td>...</td>\n",
       "      <td>...</td>\n",
       "      <td>...</td>\n",
       "      <td>...</td>\n",
       "    </tr>\n",
       "    <tr>\n",
       "      <th>148428</th>\n",
       "      <td>342</td>\n",
       "      <td>150</td>\n",
       "      <td>VJbfab8bd45428b9173429174015c36f29a6bbc6e6</td>\n",
       "      <td>Pantano</td>\n",
       "      <td>NaN</td>\n",
       "    </tr>\n",
       "    <tr>\n",
       "      <th>148429</th>\n",
       "      <td>342</td>\n",
       "      <td>150</td>\n",
       "      <td>VJ3d7ef6c7ea47a7970b34d5f46b042b677e66334d</td>\n",
       "      <td>Pantano</td>\n",
       "      <td>NaN</td>\n",
       "    </tr>\n",
       "    <tr>\n",
       "      <th>148430</th>\n",
       "      <td>342</td>\n",
       "      <td>150</td>\n",
       "      <td>VJb432db5eff2ad42fa1de4682eb37a25d63ffadc2</td>\n",
       "      <td>Pantano</td>\n",
       "      <td>NaN</td>\n",
       "    </tr>\n",
       "    <tr>\n",
       "      <th>148431</th>\n",
       "      <td>342</td>\n",
       "      <td>150</td>\n",
       "      <td>VJ24a34d64e904499a443bd541e326a369454489ab</td>\n",
       "      <td>Pantano</td>\n",
       "      <td>NaN</td>\n",
       "    </tr>\n",
       "    <tr>\n",
       "      <th>148432</th>\n",
       "      <td>342</td>\n",
       "      <td>150</td>\n",
       "      <td>VJ9b448fca0532e43432a4d454c1e6a9c1e39892de</td>\n",
       "      <td>Pantano</td>\n",
       "      <td>NaN</td>\n",
       "    </tr>\n",
       "  </tbody>\n",
       "</table>\n",
       "<p>148433 rows × 5 columns</p>\n",
       "</div>"
      ],
      "text/plain": [
       "       route_id service_id                                     trip_id  \\\n",
       "0           T01       1#28                                       1#1-2   \n",
       "1           T01       1#51                                       1#2-2   \n",
       "2           T01       1#29                                       1#3-2   \n",
       "3           T01       1#29                                       1#4-2   \n",
       "4           T01       1#28                                       1#5-2   \n",
       "...         ...        ...                                         ...   \n",
       "148428      342        150  VJbfab8bd45428b9173429174015c36f29a6bbc6e6   \n",
       "148429      342        150  VJ3d7ef6c7ea47a7970b34d5f46b042b677e66334d   \n",
       "148430      342        150  VJb432db5eff2ad42fa1de4682eb37a25d63ffadc2   \n",
       "148431      342        150  VJ24a34d64e904499a443bd541e326a369454489ab   \n",
       "148432      342        150  VJ9b448fca0532e43432a4d454c1e6a9c1e39892de   \n",
       "\n",
       "             trip_headsign  block_id  \n",
       "0       TUSCOLANA/ANAGNINA       NaN  \n",
       "1       TUSCOLANA/ANAGNINA       NaN  \n",
       "2       TUSCOLANA/ANAGNINA       NaN  \n",
       "3       TUSCOLANA/ANAGNINA       NaN  \n",
       "4       TUSCOLANA/ANAGNINA       NaN  \n",
       "...                    ...       ...  \n",
       "148428             Pantano       NaN  \n",
       "148429             Pantano       NaN  \n",
       "148430             Pantano       NaN  \n",
       "148431             Pantano       NaN  \n",
       "148432             Pantano       NaN  \n",
       "\n",
       "[148433 rows x 5 columns]"
      ]
     },
     "execution_count": 6,
     "metadata": {},
     "output_type": "execute_result"
    }
   ],
   "source": [
    "dtypes = {\n",
    "    'route_id': str,\n",
    "    'service_id': str,\n",
    "    'trip_id': str,\n",
    "    'trip_headsign': str,\n",
    "    'trip_short_name': str,\n",
    "    'direction_id': str,\n",
    "    'block_id': str,\n",
    "    'shape_id': str,\n",
    "    'wheelchair_accessible': str,\n",
    "    'exceptional': str\n",
    "}\n",
    "trips = pd.read_csv(r\"../rome_static_gtfs/trips.txt\", sep = \",\")[[\"route_id\",\"service_id\",\"trip_id\",\"trip_headsign\",\"block_id\"]]\n",
    "atac_trips = trips.merge(atac_routes, on = \"route_id\", how = \"inner\")\n",
    "atac_trips"
   ]
  },
  {
   "cell_type": "code",
   "execution_count": 7,
   "id": "8f0a1d2f-ab60-4457-b1e1-0f3dd2a597c2",
   "metadata": {},
   "outputs": [
    {
     "data": {
      "text/plain": [
       "(172480, 148433)"
      ]
     },
     "execution_count": 7,
     "metadata": {},
     "output_type": "execute_result"
    }
   ],
   "source": [
    "len(trips),len(atac_trips)"
   ]
  },
  {
   "cell_type": "code",
   "execution_count": 11,
   "id": "81c6f8aa-bccb-4cff-9060-2c87ac9ef4e8",
   "metadata": {},
   "outputs": [],
   "source": [
    "calendar_dates = pd.read_csv(r\"../rome_static_gtfs/calendar_dates.txt\", sep = \",\")\n",
    "#USED actualy\n",
    "calendar_dates = calendar_dates.loc[calendar_dates[\"exception_type\"] ==1][\"service_id\"].drop_duplicates()"
   ]
  },
  {
   "cell_type": "code",
   "execution_count": 24,
   "id": "9467db53-cccc-43fb-a914-7276619bacb6",
   "metadata": {},
   "outputs": [],
   "source": [
    "active_atac_trips = atac_trips.merge(calendar_dates, on = \"service_id\", how = \"inner\")"
   ]
  },
  {
   "cell_type": "code",
   "execution_count": 25,
   "id": "53bae21c-bf6b-44a2-84ab-e87469fc5e63",
   "metadata": {},
   "outputs": [],
   "source": [
    "active_atac_trips = active_atac_trips[['route_id', 'service_id', 'trip_id', 'trip_headsign']].drop_duplicates()"
   ]
  },
  {
   "cell_type": "code",
   "execution_count": 30,
   "id": "e29dd5bb-b43d-434c-b494-b7955b48274e",
   "metadata": {},
   "outputs": [
    {
     "data": {
      "text/plain": [
       "(145918, 145918)"
      ]
     },
     "execution_count": 30,
     "metadata": {},
     "output_type": "execute_result"
    }
   ],
   "source": [
    "len(active_atac_trips),active_atac_trips[\"trip_id\"].nunique()"
   ]
  },
  {
   "cell_type": "code",
   "execution_count": 31,
   "id": "92792105-d1f0-4643-8217-b66c59e254c5",
   "metadata": {},
   "outputs": [
    {
     "data": {
      "text/plain": [
       "0    00213\n",
       "1    04972\n",
       "2    04994\n",
       "3    05000\n",
       "4    05001\n",
       "Name: stop_id, dtype: object"
      ]
     },
     "execution_count": 31,
     "metadata": {},
     "output_type": "execute_result"
    }
   ],
   "source": [
    "stops = pd.read_csv(r\"../rome_static_gtfs/stops.txt\", sep = \",\")\n",
    "stops = stops[\"stop_id\"].drop_duplicates()\n",
    "stops.head(5)"
   ]
  },
  {
   "cell_type": "code",
   "execution_count": 32,
   "id": "69fe7d83-334c-43d8-bb6f-5977e43447fa",
   "metadata": {},
   "outputs": [
    {
     "data": {
      "text/html": [
       "<div>\n",
       "<style scoped>\n",
       "    .dataframe tbody tr th:only-of-type {\n",
       "        vertical-align: middle;\n",
       "    }\n",
       "\n",
       "    .dataframe tbody tr th {\n",
       "        vertical-align: top;\n",
       "    }\n",
       "\n",
       "    .dataframe thead th {\n",
       "        text-align: right;\n",
       "    }\n",
       "</style>\n",
       "<table border=\"1\" class=\"dataframe\">\n",
       "  <thead>\n",
       "    <tr style=\"text-align: right;\">\n",
       "      <th></th>\n",
       "      <th>trip_id</th>\n",
       "      <th>arrival_time</th>\n",
       "      <th>departure_time</th>\n",
       "      <th>stop_id</th>\n",
       "      <th>stop_sequence</th>\n",
       "      <th>stop_headsign</th>\n",
       "      <th>pickup_type</th>\n",
       "      <th>drop_off_type</th>\n",
       "      <th>shape_dist_traveled</th>\n",
       "      <th>timepoint</th>\n",
       "    </tr>\n",
       "  </thead>\n",
       "  <tbody>\n",
       "    <tr>\n",
       "      <th>0</th>\n",
       "      <td>1#1-2</td>\n",
       "      <td>07:30:00</td>\n",
       "      <td>07:30:00</td>\n",
       "      <td>74761</td>\n",
       "      <td>1</td>\n",
       "      <td>NaN</td>\n",
       "      <td>NaN</td>\n",
       "      <td>NaN</td>\n",
       "      <td>0</td>\n",
       "      <td>1</td>\n",
       "    </tr>\n",
       "    <tr>\n",
       "      <th>1</th>\n",
       "      <td>1#2-2</td>\n",
       "      <td>07:28:00</td>\n",
       "      <td>07:28:00</td>\n",
       "      <td>74761</td>\n",
       "      <td>1</td>\n",
       "      <td>NaN</td>\n",
       "      <td>NaN</td>\n",
       "      <td>NaN</td>\n",
       "      <td>0</td>\n",
       "      <td>1</td>\n",
       "    </tr>\n",
       "    <tr>\n",
       "      <th>2</th>\n",
       "      <td>1#3-2</td>\n",
       "      <td>07:30:00</td>\n",
       "      <td>07:30:00</td>\n",
       "      <td>74761</td>\n",
       "      <td>1</td>\n",
       "      <td>NaN</td>\n",
       "      <td>NaN</td>\n",
       "      <td>NaN</td>\n",
       "      <td>0</td>\n",
       "      <td>1</td>\n",
       "    </tr>\n",
       "    <tr>\n",
       "      <th>3</th>\n",
       "      <td>1#4-2</td>\n",
       "      <td>12:33:00</td>\n",
       "      <td>12:33:00</td>\n",
       "      <td>74761</td>\n",
       "      <td>1</td>\n",
       "      <td>NaN</td>\n",
       "      <td>NaN</td>\n",
       "      <td>NaN</td>\n",
       "      <td>0</td>\n",
       "      <td>1</td>\n",
       "    </tr>\n",
       "    <tr>\n",
       "      <th>4</th>\n",
       "      <td>1#5-2</td>\n",
       "      <td>12:32:00</td>\n",
       "      <td>12:32:00</td>\n",
       "      <td>74761</td>\n",
       "      <td>1</td>\n",
       "      <td>NaN</td>\n",
       "      <td>NaN</td>\n",
       "      <td>NaN</td>\n",
       "      <td>0</td>\n",
       "      <td>1</td>\n",
       "    </tr>\n",
       "  </tbody>\n",
       "</table>\n",
       "</div>"
      ],
      "text/plain": [
       "  trip_id arrival_time departure_time stop_id  stop_sequence stop_headsign  \\\n",
       "0   1#1-2     07:30:00       07:30:00   74761              1           NaN   \n",
       "1   1#2-2     07:28:00       07:28:00   74761              1           NaN   \n",
       "2   1#3-2     07:30:00       07:30:00   74761              1           NaN   \n",
       "3   1#4-2     12:33:00       12:33:00   74761              1           NaN   \n",
       "4   1#5-2     12:32:00       12:32:00   74761              1           NaN   \n",
       "\n",
       "   pickup_type  drop_off_type  shape_dist_traveled  timepoint  \n",
       "0          NaN            NaN                    0          1  \n",
       "1          NaN            NaN                    0          1  \n",
       "2          NaN            NaN                    0          1  \n",
       "3          NaN            NaN                    0          1  \n",
       "4          NaN            NaN                    0          1  "
      ]
     },
     "execution_count": 32,
     "metadata": {},
     "output_type": "execute_result"
    }
   ],
   "source": [
    "# Specify data types for columns 3 and 5 as str (string)\n",
    "dtypes = {'trip_id': str,'stop_id': str, 'stop_headsign': str}\n",
    "stop_times = pd.read_csv(r\"../rome_static_gtfs/stop_times.txt\", sep = \",\", dtype=dtypes)\n",
    "# Convert the 'arrival_time' and 'departure_time' columns to datetime with the specified format\n",
    "stop_times['arrival_time'] = pd.to_datetime(stop_times['arrival_time'], format='%H:%M:%S', errors='coerce').dt.time\n",
    "stop_times['departure_time'] = pd.to_datetime(stop_times['departure_time'], format='%H:%M:%S', errors='coerce').dt.time\n",
    "\n",
    "# Filter out rows with invalid times (e.g., \"25:00:00\" becomes NaT)\n",
    "stop_times = stop_times.dropna(subset=['arrival_time', 'departure_time'])\n",
    "stop_times = stop_times.merge(stops, on = \"stop_id\", how = \"inner\")\n",
    "stop_times.head(5)"
   ]
  },
  {
   "cell_type": "code",
   "execution_count": 33,
   "id": "6b968cc4-f565-43fd-994a-a939b1b1bedc",
   "metadata": {},
   "outputs": [
    {
     "data": {
      "text/plain": [
       "4907776"
      ]
     },
     "execution_count": 33,
     "metadata": {},
     "output_type": "execute_result"
    }
   ],
   "source": [
    "len(stop_times)"
   ]
  },
  {
   "cell_type": "code",
   "execution_count": 34,
   "id": "ea5ee481-e430-4e4c-9fb5-24415faa1dba",
   "metadata": {},
   "outputs": [
    {
     "data": {
      "text/plain": [
       "(4049478, 13)"
      ]
     },
     "execution_count": 34,
     "metadata": {},
     "output_type": "execute_result"
    }
   ],
   "source": [
    "atac_state = stop_times.merge(active_atac_trips, on = \"trip_id\", how = \"inner\")\n",
    "atac_state.shape"
   ]
  },
  {
   "cell_type": "code",
   "execution_count": 35,
   "id": "0d2587ed-9841-47d7-8492-513ee5c86718",
   "metadata": {},
   "outputs": [],
   "source": [
    "# Define the time range\n",
    "from datetime import datetime, time\n",
    "start_time_range = datetime.strptime('14:00:00', \"%H:%M:%S\").time()\n",
    "end_time_range = datetime.strptime('15:40:00', \"%H:%M:%S\").time()\n",
    "\n",
    "# Apply the filter\n",
    "atac_state_100 = atac_state[(atac_state['arrival_time'] >= start_time_range) & (atac_state['arrival_time'] <= end_time_range) &\n",
    "                 (atac_state['departure_time'] >= start_time_range) & (atac_state['departure_time'] <= end_time_range)]\n",
    "\n",
    "atac_state_100 = atac_state_100[['trip_id', 'arrival_time', 'departure_time', 'stop_id', 'stop_sequence',\n",
    "       'stop_headsign', 'shape_dist_traveled',\n",
    "       'timepoint', 'route_id', 'service_id', 'trip_headsign']]\n",
    "atac_state_100.to_csv(\"../output_data/atac_state_100.csv\", index = False)"
   ]
  },
  {
   "cell_type": "code",
   "execution_count": 36,
   "id": "13d3e5c7-2fa6-4b64-bf3c-ec52f4d6f5f8",
   "metadata": {},
   "outputs": [
    {
     "data": {
      "text/html": [
       "<div>\n",
       "<style scoped>\n",
       "    .dataframe tbody tr th:only-of-type {\n",
       "        vertical-align: middle;\n",
       "    }\n",
       "\n",
       "    .dataframe tbody tr th {\n",
       "        vertical-align: top;\n",
       "    }\n",
       "\n",
       "    .dataframe thead th {\n",
       "        text-align: right;\n",
       "    }\n",
       "</style>\n",
       "<table border=\"1\" class=\"dataframe\">\n",
       "  <thead>\n",
       "    <tr style=\"text-align: right;\">\n",
       "      <th></th>\n",
       "      <th>trip_id</th>\n",
       "      <th>arrival_time</th>\n",
       "      <th>departure_time</th>\n",
       "      <th>stop_id</th>\n",
       "      <th>stop_sequence</th>\n",
       "      <th>stop_headsign</th>\n",
       "      <th>shape_dist_traveled</th>\n",
       "      <th>timepoint</th>\n",
       "      <th>route_id</th>\n",
       "      <th>service_id</th>\n",
       "      <th>trip_headsign</th>\n",
       "    </tr>\n",
       "  </thead>\n",
       "  <tbody>\n",
       "    <tr>\n",
       "      <th>130</th>\n",
       "      <td>1#2138-15</td>\n",
       "      <td>15:02:00</td>\n",
       "      <td>15:02:00</td>\n",
       "      <td>74761</td>\n",
       "      <td>1</td>\n",
       "      <td>NaN</td>\n",
       "      <td>0</td>\n",
       "      <td>1</td>\n",
       "      <td>T01</td>\n",
       "      <td>1#5</td>\n",
       "      <td>ANAGNINA (MA)</td>\n",
       "    </tr>\n",
       "    <tr>\n",
       "      <th>131</th>\n",
       "      <td>1#2138-15</td>\n",
       "      <td>15:05:46</td>\n",
       "      <td>15:05:46</td>\n",
       "      <td>74763</td>\n",
       "      <td>2</td>\n",
       "      <td>NaN</td>\n",
       "      <td>1167</td>\n",
       "      <td>0</td>\n",
       "      <td>T01</td>\n",
       "      <td>1#5</td>\n",
       "      <td>ANAGNINA (MA)</td>\n",
       "    </tr>\n",
       "    <tr>\n",
       "      <th>132</th>\n",
       "      <td>1#2138-15</td>\n",
       "      <td>15:07:28</td>\n",
       "      <td>15:07:28</td>\n",
       "      <td>74765</td>\n",
       "      <td>3</td>\n",
       "      <td>NaN</td>\n",
       "      <td>1697</td>\n",
       "      <td>0</td>\n",
       "      <td>T01</td>\n",
       "      <td>1#5</td>\n",
       "      <td>ANAGNINA (MA)</td>\n",
       "    </tr>\n",
       "  </tbody>\n",
       "</table>\n",
       "</div>"
      ],
      "text/plain": [
       "       trip_id arrival_time departure_time stop_id  stop_sequence  \\\n",
       "130  1#2138-15     15:02:00       15:02:00   74761              1   \n",
       "131  1#2138-15     15:05:46       15:05:46   74763              2   \n",
       "132  1#2138-15     15:07:28       15:07:28   74765              3   \n",
       "\n",
       "    stop_headsign  shape_dist_traveled  timepoint route_id service_id  \\\n",
       "130           NaN                    0          1      T01        1#5   \n",
       "131           NaN                 1167          0      T01        1#5   \n",
       "132           NaN                 1697          0      T01        1#5   \n",
       "\n",
       "     trip_headsign  \n",
       "130  ANAGNINA (MA)  \n",
       "131  ANAGNINA (MA)  \n",
       "132  ANAGNINA (MA)  "
      ]
     },
     "execution_count": 36,
     "metadata": {},
     "output_type": "execute_result"
    }
   ],
   "source": [
    "atac_state_100.head(3)"
   ]
  },
  {
   "cell_type": "code",
   "execution_count": 39,
   "id": "f7bd2d6a-bafe-48c2-909e-538898d74989",
   "metadata": {},
   "outputs": [],
   "source": [
    "atac_state_full = atac_state[['trip_id', 'arrival_time', 'departure_time', 'stop_id', 'stop_sequence',\n",
    "       'stop_headsign', 'shape_dist_traveled',\n",
    "       'timepoint', 'route_id', 'service_id', 'trip_headsign']]\n",
    "atac_state_full = atac_state_full.loc[~atac_state_full[\"trip_id\"].str.startswith(\"VJ\")]\n",
    "atac_state_full.to_csv(\"../output_data/atac_state_full.csv\", index = False)"
   ]
  },
  {
   "cell_type": "code",
   "execution_count": 40,
   "id": "478f38d3-cd4c-4254-bfe6-bb402ba3a36f",
   "metadata": {},
   "outputs": [
    {
     "data": {
      "text/plain": [
       "(4039455, 11)"
      ]
     },
     "execution_count": 40,
     "metadata": {},
     "output_type": "execute_result"
    }
   ],
   "source": [
    "atac_state_full.shape"
   ]
  },
  {
   "cell_type": "markdown",
   "id": "ebe52de6-68d5-4663-880f-ed073b5a4626",
   "metadata": {},
   "source": [
    "# Measuring Performance\n",
    "- **Measure average delay**\n",
    "- "
   ]
  },
  {
   "cell_type": "code",
   "execution_count": null,
   "id": "b325da3a-f7f4-41a3-91d0-cd77f8aeb3e9",
   "metadata": {},
   "outputs": [],
   "source": []
  }
 ],
 "metadata": {
  "kernelspec": {
   "display_name": "Python 3 (ipykernel)",
   "language": "python",
   "name": "python3"
  },
  "language_info": {
   "codemirror_mode": {
    "name": "ipython",
    "version": 3
   },
   "file_extension": ".py",
   "mimetype": "text/x-python",
   "name": "python",
   "nbconvert_exporter": "python",
   "pygments_lexer": "ipython3",
   "version": "3.10.0"
  }
 },
 "nbformat": 4,
 "nbformat_minor": 5
}
