{
 "cells": [
  {
   "cell_type": "code",
   "execution_count": 1,
   "id": "18181798-8fd7-4ff9-a520-2b115281754d",
   "metadata": {},
   "outputs": [],
   "source": [
    "import pandas as pd\n",
    "import numpy as np"
   ]
  },
  {
   "cell_type": "code",
   "execution_count": 2,
   "id": "0efbccff-bd5d-4287-a82d-d75ba54c4208",
   "metadata": {},
   "outputs": [
    {
     "name": "stderr",
     "output_type": "stream",
     "text": [
      "/tmp/ipykernel_40042/1646227078.py:1: DtypeWarning: Columns (3,8) have mixed types. Specify dtype option on import or set low_memory=False.\n",
      "  atac_state = pd.read_csv(r\"../output_data/atac_state_full.csv\")\n"
     ]
    }
   ],
   "source": [
    "atac_state = pd.read_csv(r\"../output_data/atac_state_full.csv\")\n",
    "atac_state['departure_time']  = pd.to_datetime(atac_state['departure_time'],format= '%H:%M:%S' )"
   ]
  },
  {
   "cell_type": "code",
   "execution_count": 3,
   "id": "3c773de1-112c-45bb-bbc6-628631630a1f",
   "metadata": {},
   "outputs": [
    {
     "data": {
      "text/plain": [
       "trip_id                        object\n",
       "arrival_time                   object\n",
       "departure_time         datetime64[ns]\n",
       "stop_id                        object\n",
       "stop_sequence                   int64\n",
       "stop_headsign                 float64\n",
       "shape_dist_traveled             int64\n",
       "timepoint                       int64\n",
       "route_id                       object\n",
       "service_id                     object\n",
       "trip_headsign                  object\n",
       "dtype: object"
      ]
     },
     "execution_count": 3,
     "metadata": {},
     "output_type": "execute_result"
    }
   ],
   "source": [
    "atac_state.dtypes"
   ]
  },
  {
   "cell_type": "code",
   "execution_count": null,
   "id": "ac7f974b-07ac-4c4e-83ae-5816c9b23e27",
   "metadata": {},
   "outputs": [],
   "source": []
  }
 ],
 "metadata": {
  "kernelspec": {
   "display_name": "Python 3 (ipykernel)",
   "language": "python",
   "name": "python3"
  },
  "language_info": {
   "codemirror_mode": {
    "name": "ipython",
    "version": 3
   },
   "file_extension": ".py",
   "mimetype": "text/x-python",
   "name": "python",
   "nbconvert_exporter": "python",
   "pygments_lexer": "ipython3",
   "version": "3.10.0"
  }
 },
 "nbformat": 4,
 "nbformat_minor": 5
}
